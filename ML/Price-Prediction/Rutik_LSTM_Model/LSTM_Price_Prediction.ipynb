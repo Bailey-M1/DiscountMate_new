{
  "nbformat": 4,
  "nbformat_minor": 0,
  "metadata": {
    "colab": {
      "provenance": [],
      "gpuType": "T4"
    },
    "kernelspec": {
      "name": "python3",
      "display_name": "Python 3"
    },
    "language_info": {
      "name": "python"
    },
    "accelerator": "GPU"
  },
  "cells": [
    {
      "cell_type": "markdown",
      "source": [
        "#Data Loading"
      ],
      "metadata": {
        "id": "EEIXheBDUF_K"
      }
    },
    {
      "cell_type": "code",
      "execution_count": 1,
      "metadata": {
        "colab": {
          "base_uri": "https://localhost:8080/",
          "height": 206
        },
        "id": "9ecpVY_VTiMe",
        "outputId": "e0bd8a26-19bb-4af7-e41b-1b73fbe25d80"
      },
      "outputs": [
        {
          "output_type": "execute_result",
          "data": {
            "text/plain": [
              "         Category Sub_category    Product_Group  \\\n",
              "0  Meat & seafood      Poultry    Chicken offal   \n",
              "1  Meat & seafood      Poultry    Chicken offal   \n",
              "2  Meat & seafood      Poultry    Chicken offal   \n",
              "3  Meat & seafood      Poultry    Chicken offal   \n",
              "4  Meat & seafood      Poultry  Crumbed chicken   \n",
              "\n",
              "                          Product_Name  Brand       Sku    RunDate  \\\n",
              "0         RSPCA Approved Chicken Necks  Coles  1491280P  11/9/2022   \n",
              "1        RSPCA Approved Chicken Livers  Coles  1718058P  11/9/2022   \n",
              "2       RSPCA Approved Chicken Giblets  Coles  2565429P  11/9/2022   \n",
              "3        RSPCA Approved Chicken Frames  Coles  3199541P  11/9/2022   \n",
              "4  RSPCA Chicken Schnitzel Plain Crumb  Coles  2904193P  11/9/2022   \n",
              "\n",
              "   unit_price_x  \n",
              "0          6.50  \n",
              "1          9.00  \n",
              "2          7.50  \n",
              "3          4.50  \n",
              "4          8.75  "
            ],
            "text/html": [
              "\n",
              "  <div id=\"df-4b3fee12-73f6-449f-aeae-2a8b005cbbea\" class=\"colab-df-container\">\n",
              "    <div>\n",
              "<style scoped>\n",
              "    .dataframe tbody tr th:only-of-type {\n",
              "        vertical-align: middle;\n",
              "    }\n",
              "\n",
              "    .dataframe tbody tr th {\n",
              "        vertical-align: top;\n",
              "    }\n",
              "\n",
              "    .dataframe thead th {\n",
              "        text-align: right;\n",
              "    }\n",
              "</style>\n",
              "<table border=\"1\" class=\"dataframe\">\n",
              "  <thead>\n",
              "    <tr style=\"text-align: right;\">\n",
              "      <th></th>\n",
              "      <th>Category</th>\n",
              "      <th>Sub_category</th>\n",
              "      <th>Product_Group</th>\n",
              "      <th>Product_Name</th>\n",
              "      <th>Brand</th>\n",
              "      <th>Sku</th>\n",
              "      <th>RunDate</th>\n",
              "      <th>unit_price_x</th>\n",
              "    </tr>\n",
              "  </thead>\n",
              "  <tbody>\n",
              "    <tr>\n",
              "      <th>0</th>\n",
              "      <td>Meat &amp; seafood</td>\n",
              "      <td>Poultry</td>\n",
              "      <td>Chicken offal</td>\n",
              "      <td>RSPCA Approved Chicken Necks</td>\n",
              "      <td>Coles</td>\n",
              "      <td>1491280P</td>\n",
              "      <td>11/9/2022</td>\n",
              "      <td>6.50</td>\n",
              "    </tr>\n",
              "    <tr>\n",
              "      <th>1</th>\n",
              "      <td>Meat &amp; seafood</td>\n",
              "      <td>Poultry</td>\n",
              "      <td>Chicken offal</td>\n",
              "      <td>RSPCA Approved Chicken Livers</td>\n",
              "      <td>Coles</td>\n",
              "      <td>1718058P</td>\n",
              "      <td>11/9/2022</td>\n",
              "      <td>9.00</td>\n",
              "    </tr>\n",
              "    <tr>\n",
              "      <th>2</th>\n",
              "      <td>Meat &amp; seafood</td>\n",
              "      <td>Poultry</td>\n",
              "      <td>Chicken offal</td>\n",
              "      <td>RSPCA Approved Chicken Giblets</td>\n",
              "      <td>Coles</td>\n",
              "      <td>2565429P</td>\n",
              "      <td>11/9/2022</td>\n",
              "      <td>7.50</td>\n",
              "    </tr>\n",
              "    <tr>\n",
              "      <th>3</th>\n",
              "      <td>Meat &amp; seafood</td>\n",
              "      <td>Poultry</td>\n",
              "      <td>Chicken offal</td>\n",
              "      <td>RSPCA Approved Chicken Frames</td>\n",
              "      <td>Coles</td>\n",
              "      <td>3199541P</td>\n",
              "      <td>11/9/2022</td>\n",
              "      <td>4.50</td>\n",
              "    </tr>\n",
              "    <tr>\n",
              "      <th>4</th>\n",
              "      <td>Meat &amp; seafood</td>\n",
              "      <td>Poultry</td>\n",
              "      <td>Crumbed chicken</td>\n",
              "      <td>RSPCA Chicken Schnitzel Plain Crumb</td>\n",
              "      <td>Coles</td>\n",
              "      <td>2904193P</td>\n",
              "      <td>11/9/2022</td>\n",
              "      <td>8.75</td>\n",
              "    </tr>\n",
              "  </tbody>\n",
              "</table>\n",
              "</div>\n",
              "    <div class=\"colab-df-buttons\">\n",
              "\n",
              "  <div class=\"colab-df-container\">\n",
              "    <button class=\"colab-df-convert\" onclick=\"convertToInteractive('df-4b3fee12-73f6-449f-aeae-2a8b005cbbea')\"\n",
              "            title=\"Convert this dataframe to an interactive table.\"\n",
              "            style=\"display:none;\">\n",
              "\n",
              "  <svg xmlns=\"http://www.w3.org/2000/svg\" height=\"24px\" viewBox=\"0 -960 960 960\">\n",
              "    <path d=\"M120-120v-720h720v720H120Zm60-500h600v-160H180v160Zm220 220h160v-160H400v160Zm0 220h160v-160H400v160ZM180-400h160v-160H180v160Zm440 0h160v-160H620v160ZM180-180h160v-160H180v160Zm440 0h160v-160H620v160Z\"/>\n",
              "  </svg>\n",
              "    </button>\n",
              "\n",
              "  <style>\n",
              "    .colab-df-container {\n",
              "      display:flex;\n",
              "      gap: 12px;\n",
              "    }\n",
              "\n",
              "    .colab-df-convert {\n",
              "      background-color: #E8F0FE;\n",
              "      border: none;\n",
              "      border-radius: 50%;\n",
              "      cursor: pointer;\n",
              "      display: none;\n",
              "      fill: #1967D2;\n",
              "      height: 32px;\n",
              "      padding: 0 0 0 0;\n",
              "      width: 32px;\n",
              "    }\n",
              "\n",
              "    .colab-df-convert:hover {\n",
              "      background-color: #E2EBFA;\n",
              "      box-shadow: 0px 1px 2px rgba(60, 64, 67, 0.3), 0px 1px 3px 1px rgba(60, 64, 67, 0.15);\n",
              "      fill: #174EA6;\n",
              "    }\n",
              "\n",
              "    .colab-df-buttons div {\n",
              "      margin-bottom: 4px;\n",
              "    }\n",
              "\n",
              "    [theme=dark] .colab-df-convert {\n",
              "      background-color: #3B4455;\n",
              "      fill: #D2E3FC;\n",
              "    }\n",
              "\n",
              "    [theme=dark] .colab-df-convert:hover {\n",
              "      background-color: #434B5C;\n",
              "      box-shadow: 0px 1px 3px 1px rgba(0, 0, 0, 0.15);\n",
              "      filter: drop-shadow(0px 1px 2px rgba(0, 0, 0, 0.3));\n",
              "      fill: #FFFFFF;\n",
              "    }\n",
              "  </style>\n",
              "\n",
              "    <script>\n",
              "      const buttonEl =\n",
              "        document.querySelector('#df-4b3fee12-73f6-449f-aeae-2a8b005cbbea button.colab-df-convert');\n",
              "      buttonEl.style.display =\n",
              "        google.colab.kernel.accessAllowed ? 'block' : 'none';\n",
              "\n",
              "      async function convertToInteractive(key) {\n",
              "        const element = document.querySelector('#df-4b3fee12-73f6-449f-aeae-2a8b005cbbea');\n",
              "        const dataTable =\n",
              "          await google.colab.kernel.invokeFunction('convertToInteractive',\n",
              "                                                    [key], {});\n",
              "        if (!dataTable) return;\n",
              "\n",
              "        const docLinkHtml = 'Like what you see? Visit the ' +\n",
              "          '<a target=\"_blank\" href=https://colab.research.google.com/notebooks/data_table.ipynb>data table notebook</a>'\n",
              "          + ' to learn more about interactive tables.';\n",
              "        element.innerHTML = '';\n",
              "        dataTable['output_type'] = 'display_data';\n",
              "        await google.colab.output.renderOutput(dataTable, element);\n",
              "        const docLink = document.createElement('div');\n",
              "        docLink.innerHTML = docLinkHtml;\n",
              "        element.appendChild(docLink);\n",
              "      }\n",
              "    </script>\n",
              "  </div>\n",
              "\n",
              "\n",
              "<div id=\"df-ce319bc4-3e48-481f-aa45-24ca97ebc61a\">\n",
              "  <button class=\"colab-df-quickchart\" onclick=\"quickchart('df-ce319bc4-3e48-481f-aa45-24ca97ebc61a')\"\n",
              "            title=\"Suggest charts\"\n",
              "            style=\"display:none;\">\n",
              "\n",
              "<svg xmlns=\"http://www.w3.org/2000/svg\" height=\"24px\"viewBox=\"0 0 24 24\"\n",
              "     width=\"24px\">\n",
              "    <g>\n",
              "        <path d=\"M19 3H5c-1.1 0-2 .9-2 2v14c0 1.1.9 2 2 2h14c1.1 0 2-.9 2-2V5c0-1.1-.9-2-2-2zM9 17H7v-7h2v7zm4 0h-2V7h2v10zm4 0h-2v-4h2v4z\"/>\n",
              "    </g>\n",
              "</svg>\n",
              "  </button>\n",
              "\n",
              "<style>\n",
              "  .colab-df-quickchart {\n",
              "      --bg-color: #E8F0FE;\n",
              "      --fill-color: #1967D2;\n",
              "      --hover-bg-color: #E2EBFA;\n",
              "      --hover-fill-color: #174EA6;\n",
              "      --disabled-fill-color: #AAA;\n",
              "      --disabled-bg-color: #DDD;\n",
              "  }\n",
              "\n",
              "  [theme=dark] .colab-df-quickchart {\n",
              "      --bg-color: #3B4455;\n",
              "      --fill-color: #D2E3FC;\n",
              "      --hover-bg-color: #434B5C;\n",
              "      --hover-fill-color: #FFFFFF;\n",
              "      --disabled-bg-color: #3B4455;\n",
              "      --disabled-fill-color: #666;\n",
              "  }\n",
              "\n",
              "  .colab-df-quickchart {\n",
              "    background-color: var(--bg-color);\n",
              "    border: none;\n",
              "    border-radius: 50%;\n",
              "    cursor: pointer;\n",
              "    display: none;\n",
              "    fill: var(--fill-color);\n",
              "    height: 32px;\n",
              "    padding: 0;\n",
              "    width: 32px;\n",
              "  }\n",
              "\n",
              "  .colab-df-quickchart:hover {\n",
              "    background-color: var(--hover-bg-color);\n",
              "    box-shadow: 0 1px 2px rgba(60, 64, 67, 0.3), 0 1px 3px 1px rgba(60, 64, 67, 0.15);\n",
              "    fill: var(--button-hover-fill-color);\n",
              "  }\n",
              "\n",
              "  .colab-df-quickchart-complete:disabled,\n",
              "  .colab-df-quickchart-complete:disabled:hover {\n",
              "    background-color: var(--disabled-bg-color);\n",
              "    fill: var(--disabled-fill-color);\n",
              "    box-shadow: none;\n",
              "  }\n",
              "\n",
              "  .colab-df-spinner {\n",
              "    border: 2px solid var(--fill-color);\n",
              "    border-color: transparent;\n",
              "    border-bottom-color: var(--fill-color);\n",
              "    animation:\n",
              "      spin 1s steps(1) infinite;\n",
              "  }\n",
              "\n",
              "  @keyframes spin {\n",
              "    0% {\n",
              "      border-color: transparent;\n",
              "      border-bottom-color: var(--fill-color);\n",
              "      border-left-color: var(--fill-color);\n",
              "    }\n",
              "    20% {\n",
              "      border-color: transparent;\n",
              "      border-left-color: var(--fill-color);\n",
              "      border-top-color: var(--fill-color);\n",
              "    }\n",
              "    30% {\n",
              "      border-color: transparent;\n",
              "      border-left-color: var(--fill-color);\n",
              "      border-top-color: var(--fill-color);\n",
              "      border-right-color: var(--fill-color);\n",
              "    }\n",
              "    40% {\n",
              "      border-color: transparent;\n",
              "      border-right-color: var(--fill-color);\n",
              "      border-top-color: var(--fill-color);\n",
              "    }\n",
              "    60% {\n",
              "      border-color: transparent;\n",
              "      border-right-color: var(--fill-color);\n",
              "    }\n",
              "    80% {\n",
              "      border-color: transparent;\n",
              "      border-right-color: var(--fill-color);\n",
              "      border-bottom-color: var(--fill-color);\n",
              "    }\n",
              "    90% {\n",
              "      border-color: transparent;\n",
              "      border-bottom-color: var(--fill-color);\n",
              "    }\n",
              "  }\n",
              "</style>\n",
              "\n",
              "  <script>\n",
              "    async function quickchart(key) {\n",
              "      const quickchartButtonEl =\n",
              "        document.querySelector('#' + key + ' button');\n",
              "      quickchartButtonEl.disabled = true;  // To prevent multiple clicks.\n",
              "      quickchartButtonEl.classList.add('colab-df-spinner');\n",
              "      try {\n",
              "        const charts = await google.colab.kernel.invokeFunction(\n",
              "            'suggestCharts', [key], {});\n",
              "      } catch (error) {\n",
              "        console.error('Error during call to suggestCharts:', error);\n",
              "      }\n",
              "      quickchartButtonEl.classList.remove('colab-df-spinner');\n",
              "      quickchartButtonEl.classList.add('colab-df-quickchart-complete');\n",
              "    }\n",
              "    (() => {\n",
              "      let quickchartButtonEl =\n",
              "        document.querySelector('#df-ce319bc4-3e48-481f-aa45-24ca97ebc61a button');\n",
              "      quickchartButtonEl.style.display =\n",
              "        google.colab.kernel.accessAllowed ? 'block' : 'none';\n",
              "    })();\n",
              "  </script>\n",
              "</div>\n",
              "\n",
              "    </div>\n",
              "  </div>\n"
            ],
            "application/vnd.google.colaboratory.intrinsic+json": {
              "type": "dataframe",
              "variable_name": "df"
            }
          },
          "metadata": {},
          "execution_count": 1
        }
      ],
      "source": [
        "import pandas as pd\n",
        "import numpy as np\n",
        "import matplotlib.pyplot as plt\n",
        "import seaborn as sns\n",
        "\n",
        "df = pd.read_csv('Aus_grocery_synthetic_dataset2.csv')\n",
        "df.head()"
      ]
    },
    {
      "cell_type": "markdown",
      "source": [
        "##Removing all rows whose \"unit_price_x value is either \"0\" or \"NaN\"."
      ],
      "metadata": {
        "id": "8Ga_6nw6UQN8"
      }
    },
    {
      "cell_type": "code",
      "source": [
        "df = df[(df['unit_price_x'] != 0) & (df['unit_price_x'].notna())]"
      ],
      "metadata": {
        "id": "OeYWF52oUK91"
      },
      "execution_count": 2,
      "outputs": []
    },
    {
      "cell_type": "markdown",
      "source": [
        "#Transfering date column type to \"DateTimeObject\""
      ],
      "metadata": {
        "id": "k2-8YtM9UWir"
      }
    },
    {
      "cell_type": "code",
      "source": [
        "def parse_mixed_dates(date):\n",
        "    try:\n",
        "        # Attempt parsing as MM/DD/YYYY\n",
        "        return pd.to_datetime(date, format='%m/%d/%Y')\n",
        "    except ValueError:\n",
        "        try:\n",
        "            # Attempt parsing as DD/MM/YYYY\n",
        "            return pd.to_datetime(date, format='%d/%m/%Y')\n",
        "        except ValueError:\n",
        "            return pd.NaT  # Return NaT if both fail\n",
        "\n",
        "# Apply the function to parse mixed formats\n",
        "df['RunDate_parsed'] = df['RunDate'].apply(parse_mixed_dates)\n"
      ],
      "metadata": {
        "id": "ZSGr8zrcUStJ"
      },
      "execution_count": 3,
      "outputs": []
    },
    {
      "cell_type": "code",
      "source": [
        "df.info()"
      ],
      "metadata": {
        "colab": {
          "base_uri": "https://localhost:8080/"
        },
        "id": "Q21ul-kfUdL7",
        "outputId": "a9f18398-16b9-4b40-b13c-a9a217f822aa"
      },
      "execution_count": 4,
      "outputs": [
        {
          "output_type": "stream",
          "name": "stdout",
          "text": [
            "<class 'pandas.core.frame.DataFrame'>\n",
            "Index: 187072 entries, 0 to 187195\n",
            "Data columns (total 9 columns):\n",
            " #   Column          Non-Null Count   Dtype         \n",
            "---  ------          --------------   -----         \n",
            " 0   Category        187072 non-null  object        \n",
            " 1   Sub_category    187072 non-null  object        \n",
            " 2   Product_Group   187072 non-null  object        \n",
            " 3   Product_Name    187072 non-null  object        \n",
            " 4   Brand           187072 non-null  object        \n",
            " 5   Sku             187072 non-null  object        \n",
            " 6   RunDate         187072 non-null  object        \n",
            " 7   unit_price_x    187072 non-null  float64       \n",
            " 8   RunDate_parsed  187072 non-null  datetime64[ns]\n",
            "dtypes: datetime64[ns](1), float64(1), object(7)\n",
            "memory usage: 14.3+ MB\n"
          ]
        }
      ]
    },
    {
      "cell_type": "code",
      "source": [
        "print(df.describe())"
      ],
      "metadata": {
        "colab": {
          "base_uri": "https://localhost:8080/"
        },
        "id": "wSLPttg8Uoqa",
        "outputId": "d02e5af0-77d9-4955-97dc-cadb8b4840cf"
      },
      "execution_count": 5,
      "outputs": [
        {
          "output_type": "stream",
          "name": "stdout",
          "text": [
            "        unit_price_x                 RunDate_parsed\n",
            "count  187072.000000                         187072\n",
            "mean        8.537730  2020-08-02 16:01:26.058843392\n",
            "min         0.010000            2020-01-01 00:00:00\n",
            "25%         1.320000            2020-04-05 00:00:00\n",
            "50%         3.050000            2020-07-08 00:00:00\n",
            "75%         7.120000            2020-10-11 00:00:00\n",
            "max       337.830000            2023-01-17 00:00:00\n",
            "std        15.779829                            NaN\n"
          ]
        }
      ]
    },
    {
      "cell_type": "code",
      "source": [
        "# Plot for unit_price_x\n",
        "sns.histplot(df['unit_price_x'], kde=True)\n",
        "plt.title('Distribution of unit_price_x')\n",
        "plt.show()\n"
      ],
      "metadata": {
        "colab": {
          "base_uri": "https://localhost:8080/",
          "height": 472
        },
        "id": "TNR8eHcNUrgL",
        "outputId": "e2dc43ce-7041-4093-a7b5-dc968ccb35b5"
      },
      "execution_count": 6,
      "outputs": [
        {
          "output_type": "display_data",
          "data": {
            "text/plain": [
              "<Figure size 640x480 with 1 Axes>"
            ],
            "image/png": "[encoded data removed]"
          },
          "metadata": {}
        }
      ]
    },
    {
      "cell_type": "markdown",
      "source": [
        "##Normaliz the \"unit_price_x\" column"
      ],
      "metadata": {
        "id": "A-ap5yi6U7-X"
      }
    },
    {
      "cell_type": "code",
      "source": [
        "from sklearn.preprocessing import MinMaxScaler\n",
        "\n",
        "# Initialize the scaler\n",
        "scaler = MinMaxScaler()\n",
        "\n",
        "# Fit and transform the unit_price_x column\n",
        "df['unit_price_x_normalized'] = scaler.fit_transform(df[['unit_price_x']])\n",
        "\n",
        "# Check the result\n",
        "# Plot for unit_price_x\n",
        "sns.histplot(df['unit_price_x_normalized'], kde=True)\n",
        "plt.title('Distribution of unit_price_x_normalized')\n",
        "plt.show()\n"
      ],
      "metadata": {
        "colab": {
          "base_uri": "https://localhost:8080/",
          "height": 472
        },
        "id": "kqjGZ3H3Uuo-",
        "outputId": "53d4087f-89fb-4775-c9a8-7b1f91a40022"
      },
      "execution_count": 7,
      "outputs": [
        {
          "output_type": "display_data",
          "data": {
            "text/plain": [
              "<Figure size 640x480 with 1 Axes>"
            ],
            "image/png": "[encoded data removed]"
          },
          "metadata": {}
        }
      ]
    },
    {
      "cell_type": "markdown",
      "source": [
        "##LSTM Model for price prediction"
      ],
      "metadata": {
        "id": "jINxRhqDVHFa"
      }
    },
    {
      "cell_type": "code",
      "source": [
        "from sklearn.metrics import mean_absolute_error, mean_squared_error, r2_score\n",
        "from tensorflow.keras.models import Sequential\n",
        "from tensorflow.keras.layers import LSTM, Dense, Dropout\n",
        "from tensorflow.keras.callbacks import EarlyStopping\n",
        "from tensorflow.keras.optimizers import Adam\n",
        "\n",
        "price_data = df['unit_price_x_normalized'].values\n",
        "\n",
        "# Split data into training and testing\n",
        "train_size = int(len(price_data) * 0.8)\n",
        "train, test = price_data[:train_size], price_data[train_size:]\n",
        "\n",
        "# Create the dataset matrix\n",
        "def create_dataset(data, look_back=1):\n",
        "    X, Y = [], []\n",
        "    for i in range(len(data)-look_back-1):\n",
        "        a = data[i:(i+look_back)]\n",
        "        X.append(a)\n",
        "        Y.append(data[i + look_back])\n",
        "    return np.array(X), np.array(Y)\n",
        "\n",
        "look_back = 1\n",
        "X_train, y_train = create_dataset(train, look_back)\n",
        "X_test, y_test = create_dataset(test, look_back)\n",
        "\n",
        "X_train = np.reshape(X_train, (X_train.shape[0], X_train.shape[1], 1))\n",
        "X_test = np.reshape(X_test, (X_test.shape[0], X_test.shape[1], 1))\n",
        "\n",
        "# Build the LSTM model\n",
        "model = Sequential()\n",
        "model.add(LSTM(50, input_shape=(look_back, 1)))\n",
        "model.add(Dense(1))\n",
        "model.compile(optimizer=Adam(learning_rate=0.01), loss='mean_squared_error')\n",
        "\n",
        "# Early stopping\n",
        "early_stopping = EarlyStopping(monitor='val_loss', patience=5, restore_best_weights=True)\n",
        "\n",
        "# Train the model\n",
        "history = model.fit(X_train, y_train, epochs=20, batch_size=32, verbose=2, validation_data=(X_test, y_test), callbacks=[early_stopping])\n",
        "\n",
        "# Make predictions\n",
        "train_predict = model.predict(X_train)\n",
        "test_predict = model.predict(X_test)\n",
        "\n",
        "# Inverse transform predictions\n",
        "train_predict = scaler.inverse_transform(train_predict)\n",
        "y_train = scaler.inverse_transform([y_train])\n",
        "test_predict = scaler.inverse_transform(test_predict)\n",
        "y_test = scaler.inverse_transform([y_test])\n",
        "\n",
        "# Calculate performance metrics\n",
        "mae = mean_absolute_error(y_test[0], test_predict[:,0])\n",
        "mse = mean_squared_error(y_test[0], test_predict[:,0])\n",
        "rmse = np.sqrt(mse)\n",
        "r2 = r2_score(y_test[0], test_predict[:,0])\n",
        "\n",
        "print(f\"Mean Absolute Error (MAE): {mae}\")\n",
        "print(f\"Mean Squared Error (MSE): {mse}\")\n",
        "print(f\"Root Mean Squared Error (RMSE): {rmse}\")\n",
        "print(f\"R-Squared: {r2}\")\n",
        "\n",
        "# Plot the results\n",
        "plt.figure(figsize=(10,5))\n",
        "plt.plot(y_test[0], label='Testing Data')\n",
        "plt.plot(test_predict[:,0], label='LSTM Forecast')\n",
        "plt.legend(loc='best')\n",
        "plt.title('LSTM Model Forecast on Normalized Data')\n",
        "plt.show()\n"
      ],
      "metadata": {
        "colab": {
          "base_uri": "https://localhost:8080/",
          "height": 959
        },
        "id": "uTUEylSNU-xz",
        "outputId": "0e4fd2fc-5728-4c2f-b750-678115a4edea"
      },
      "execution_count": 8,
      "outputs": [
        {
          "output_type": "stream",
          "name": "stderr",
          "text": [
            "/usr/local/lib/python3.10/dist-packages/keras/src/layers/rnn/rnn.py:204: UserWarning: Do not pass an `input_shape`/`input_dim` argument to a layer. When using Sequential models, prefer using an `Input(shape)` object as the first layer in the model instead.\n",
            "  super().__init__(**kwargs)\n"
          ]
        },
        {
          "output_type": "stream",
          "name": "stdout",
          "text": [
            "Epoch 1/20\n",
            "4677/4677 - 22s - 5ms/step - loss: 0.0022 - val_loss: 0.0023\n",
            "Epoch 2/20\n",
            "4677/4677 - 17s - 4ms/step - loss: 0.0022 - val_loss: 0.0023\n",
            "Epoch 3/20\n",
            "4677/4677 - 21s - 4ms/step - loss: 0.0022 - val_loss: 0.0023\n",
            "Epoch 4/20\n",
            "4677/4677 - 19s - 4ms/step - loss: 0.0022 - val_loss: 0.0023\n",
            "Epoch 5/20\n",
            "4677/4677 - 22s - 5ms/step - loss: 0.0022 - val_loss: 0.0023\n",
            "Epoch 6/20\n",
            "4677/4677 - 19s - 4ms/step - loss: 0.0022 - val_loss: 0.0023\n",
            "Epoch 7/20\n",
            "4677/4677 - 20s - 4ms/step - loss: 0.0022 - val_loss: 0.0023\n",
            "Epoch 8/20\n",
            "4677/4677 - 27s - 6ms/step - loss: 0.0022 - val_loss: 0.0023\n",
            "Epoch 9/20\n",
            "4677/4677 - 36s - 8ms/step - loss: 0.0022 - val_loss: 0.0023\n",
            "\u001b[1m4677/4677\u001b[0m \u001b[32m━━━━━━━━━━━━━━━━━━━━\u001b[0m\u001b[37m\u001b[0m \u001b[1m6s\u001b[0m 1ms/step\n",
            "\u001b[1m1170/1170\u001b[0m \u001b[32m━━━━━━━━━━━━━━━━━━━━\u001b[0m\u001b[37m\u001b[0m \u001b[1m2s\u001b[0m 1ms/step\n",
            "Mean Absolute Error (MAE): 9.109879946949945\n",
            "Mean Squared Error (MSE): 257.67459061597555\n",
            "Root Mean Squared Error (RMSE): 16.05224565647983\n",
            "R-Squared: -0.0007045055238354969\n"
          ]
        },
        {
          "output_type": "display_data",
          "data": {
            "text/plain": [
              "<Figure size 1000x500 with 1 Axes>"
            ],
            "image/png": "[encoded data removed]"
          },
          "metadata": {}
        }
      ]
    },
    {
      "cell_type": "code",
      "source": [
        "import pickle\n",
        "with open('LSTM_model_MinMax_normalization.pkl', 'wb') as pkl:\n",
        "  pickle.dump(model, pkl)"
      ],
      "metadata": {
        "id": "WpoBFKcZVpqg"
      },
      "execution_count": 9,
      "outputs": []
    },
    {
      "cell_type": "code",
      "source": [],
      "metadata": {
        "id": "56_LCJYcgTVu"
      },
      "execution_count": null,
      "outputs": []
    }
  ]
}