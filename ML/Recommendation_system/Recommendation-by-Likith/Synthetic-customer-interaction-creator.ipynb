{
 "cells": [
  {
   "cell_type": "code",
   "execution_count": 1,
   "metadata": {},
   "outputs": [],
   "source": [
    "import pandas as pd\n",
    "import random"
   ]
  },
  {
   "cell_type": "code",
   "execution_count": null,
   "metadata": {},
   "outputs": [],
   "source": [
    "#Data\n",
    "original_data = pd.read_csv('Coles_cleaned.csv')"
   ]
  },
  {
   "cell_type": "code",
   "execution_count": 3,
   "metadata": {},
   "outputs": [],
   "source": [
    "#parameters for the synthetic data creation\n",
    "user_count = 1000\n",
    "record_count = 10000\n",
    "\n",
    "#generate 1 to 1000 user ids, item ids and categories\n",
    "user_ids = range(1, user_count + 1)\n",
    "item_ids = original_data['product_code'].tolist()\n",
    "categories = original_data['category'].tolist()"
   ]
  },
  {
   "cell_type": "code",
   "execution_count": 11,
   "metadata": {},
   "outputs": [],
   "source": [
    "#dictionary template for storing the generated data\n",
    "generated_data = {\n",
    "    \"user_id\": [],  \n",
    "    \"product_code\": [],\n",
    "    \"item_name\": [],  \n",
    "    \"rating\": [],\n",
    "    \"category\": []  \n",
    "}"
   ]
  },
  {
   "cell_type": "code",
   "execution_count": null,
   "metadata": {},
   "outputs": [],
   "source": [
    "# Thank God for stackoverflow\n",
    "# Loop to repeat the code 1000 times; Each iteration randomly selects a user ID, category, and 5 items from the same category\n",
    "for _ in range(record_count // 10):\n",
    "    user_id = random.choice(user_ids)\n",
    "    category = random.choice(categories)\n",
    "    items_in_category = original_data[original_data['category'] == category][['product_code', 'item_name']].to_dict('records')\n",
    "\n",
    "    #Firstly, checking if the category has more than 5 items\n",
    "    if len(items_in_category) >= 5:\n",
    "        # Select 5 random items from the same category and assign a random rating\n",
    "        items_same_category = random.sample(items_in_category, min(len(items_in_category), 5))\n",
    "        for item in items_same_category:\n",
    "            generated_data[\"user_id\"].append(user_id)\n",
    "            generated_data[\"product_code\"].append(item['product_code'])\n",
    "            generated_data[\"item_name\"].append(item['item_name'])\n",
    "            generated_data[\"rating\"].append(random.randint(1, 5))\n",
    "            generated_data[\"category\"].append(category)\n",
    "\n",
    "    #Secondly, adding 5 items from other categories\n",
    "    other_items = random.sample(item_ids, 5)\n",
    "    for item in other_items:\n",
    "        item_data = original_data[original_data['product_code'] == item].iloc[0]\n",
    "        generated_data[\"user_id\"].append(user_id)\n",
    "        generated_data[\"product_code\"].append(item)\n",
    "        generated_data[\"item_name\"].append(item_data['item_name'])\n",
    "        generated_data[\"rating\"].append(random.randint(1, 5))\n",
    "        generated_data[\"category\"].append(item_data['category'])\n",
    "\n",
    "# Create a DataFrame from the generated data dictionary\n",
    "updated_recommendation_dataset = pd.DataFrame(generated_data)"
   ]
  },
  {
   "cell_type": "code",
   "execution_count": null,
   "metadata": {},
   "outputs": [],
   "source": [
    "#Spitting out the data to CSV\n",
    "output_path = 'updated_recommendation_dataset.csv'\n",
    "updated_recommendation_dataset.to_csv(output_path, index=False)"
   ]
  }
 ],
 "metadata": {
  "kernelspec": {
   "display_name": "myenv",
   "language": "python",
   "name": "python3"
  },
  "language_info": {
   "codemirror_mode": {
    "name": "ipython",
    "version": 3
   },
   "file_extension": ".py",
   "mimetype": "text/x-python",
   "name": "python",
   "nbconvert_exporter": "python",
   "pygments_lexer": "ipython3",
   "version": "3.12.6"
  }
 },
 "nbformat": 4,
 "nbformat_minor": 2
}
