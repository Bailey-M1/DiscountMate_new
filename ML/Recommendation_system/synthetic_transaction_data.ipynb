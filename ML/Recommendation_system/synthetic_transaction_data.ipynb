{
 "cells": [
  {
   "cell_type": "code",
   "execution_count": 1,
   "id": "c4bbf2bd",
   "metadata": {},
   "outputs": [],
   "source": [
    "import pandas as pd\n",
    "import random\n",
    "from faker import Faker"
   ]
  },
  {
   "cell_type": "code",
   "execution_count": 2,
   "id": "93e7e1bc",
   "metadata": {},
   "outputs": [],
   "source": [
    "faker = Faker()"
   ]
  },
  {
   "cell_type": "code",
   "execution_count": 3,
   "id": "7f016341",
   "metadata": {},
   "outputs": [],
   "source": [
    "#uses data from web scraping as the basis for the synthetic data\n",
    "product_data = pd.read_csv(\"/users/liamedmunds/Desktop/Semester 3 2024/datasets/Sun4AugWoolworths 1.csv\")"
   ]
  },
  {
   "cell_type": "code",
   "execution_count": 6,
   "id": "fcbfba02",
   "metadata": {},
   "outputs": [],
   "source": [
    "#clean the data\n",
    "product_catalog = product_data[[\"Product Code\", \"Category\", \"Item Name\", \"Best Price\"]].dropna()\n",
    "\n",
    "product_catalog[\"Best Price\"] = (\n",
    "    product_catalog[\"Best Price\"]\n",
    "    .replace('[^\\d\\.]', '', regex=True)  # Remove everything except digits and dots\n",
    "    .astype(float)  # Convert to numeric\n",
    ")"
   ]
  },
  {
   "cell_type": "code",
   "execution_count": 14,
   "id": "869f01c3",
   "metadata": {},
   "outputs": [
    {
     "data": {
      "text/html": [
       "<div>\n",
       "<style scoped>\n",
       "    .dataframe tbody tr th:only-of-type {\n",
       "        vertical-align: middle;\n",
       "    }\n",
       "\n",
       "    .dataframe tbody tr th {\n",
       "        vertical-align: top;\n",
       "    }\n",
       "\n",
       "    .dataframe thead th {\n",
       "        text-align: right;\n",
       "    }\n",
       "</style>\n",
       "<table border=\"1\" class=\"dataframe\">\n",
       "  <thead>\n",
       "    <tr style=\"text-align: right;\">\n",
       "      <th></th>\n",
       "      <th>Product Code</th>\n",
       "      <th>Category</th>\n",
       "      <th>Item Name</th>\n",
       "      <th>Best Price</th>\n",
       "    </tr>\n",
       "  </thead>\n",
       "  <tbody>\n",
       "    <tr>\n",
       "      <th>0</th>\n",
       "      <td>133211</td>\n",
       "      <td>Fruit &amp; Veg</td>\n",
       "      <td>Cavendish Bananas Each</td>\n",
       "      <td>0.77</td>\n",
       "    </tr>\n",
       "    <tr>\n",
       "      <th>1</th>\n",
       "      <td>134034</td>\n",
       "      <td>Fruit &amp; Veg</td>\n",
       "      <td>Fresh Tomato Each</td>\n",
       "      <td>0.65</td>\n",
       "    </tr>\n",
       "    <tr>\n",
       "      <th>2</th>\n",
       "      <td>144607</td>\n",
       "      <td>Fruit &amp; Veg</td>\n",
       "      <td>Strawberries 250g Punnet</td>\n",
       "      <td>4.00</td>\n",
       "    </tr>\n",
       "    <tr>\n",
       "      <th>3</th>\n",
       "      <td>105919</td>\n",
       "      <td>Fruit &amp; Veg</td>\n",
       "      <td>Fresh Pink Lady Apples Each</td>\n",
       "      <td>0.86</td>\n",
       "    </tr>\n",
       "    <tr>\n",
       "      <th>4</th>\n",
       "      <td>169438</td>\n",
       "      <td>Fruit &amp; Veg</td>\n",
       "      <td>Truss Tomatoes Each</td>\n",
       "      <td>0.83</td>\n",
       "    </tr>\n",
       "  </tbody>\n",
       "</table>\n",
       "</div>"
      ],
      "text/plain": [
       "   Product Code     Category                    Item Name  Best Price\n",
       "0        133211  Fruit & Veg       Cavendish Bananas Each        0.77\n",
       "1        134034  Fruit & Veg            Fresh Tomato Each        0.65\n",
       "2        144607  Fruit & Veg     Strawberries 250g Punnet        4.00\n",
       "3        105919  Fruit & Veg  Fresh Pink Lady Apples Each        0.86\n",
       "4        169438  Fruit & Veg          Truss Tomatoes Each        0.83"
      ]
     },
     "execution_count": 14,
     "metadata": {},
     "output_type": "execute_result"
    }
   ],
   "source": [
    "product_catalog.head()"
   ]
  },
  {
   "cell_type": "code",
   "execution_count": 15,
   "id": "a6a4a4d5",
   "metadata": {},
   "outputs": [],
   "source": [
    "num_transactions = 1000\n",
    "num_customers = 100\n",
    "payment_method = [\"Credit Card\", \"Cash\", \"Gift Card\", \"Mobile Payment\"]"
   ]
  },
  {
   "cell_type": "code",
   "execution_count": 16,
   "id": "191240ae",
   "metadata": {},
   "outputs": [],
   "source": [
    "synthetic_transactions = []"
   ]
  },
  {
   "cell_type": "code",
   "execution_count": 18,
   "id": "eaf7d7ca",
   "metadata": {},
   "outputs": [],
   "source": [
    "for i in range(num_transactions):\n",
    "    product = product_catalog.sample(1).iloc[0]\n",
    "    quantity = random.randint(1, 10)\n",
    "    price = product[\"Best Price\"]\n",
    "    total_price = round(price * quantity, 2)\n",
    "    synthetic_transactions.append({\n",
    "        \"Transaction ID\": faker.uuid4(),\n",
    "        \"Date and Time\": faker.date_time_this_year(),\n",
    "        \"Customer ID\": random.randint(1, num_customers),\n",
    "        \"Product Code\": product[\"Product Code\"],\n",
    "        \"Item Name\": product[\"Item Name\"],\n",
    "        \"Category\": product[\"Category\"],\n",
    "        \"Quantity\": quantity, \n",
    "        \"Price\": price,\n",
    "        \"Total Price\": total_price,\n",
    "        \"Payment Method\": random.choice(payment_method)\n",
    "    })"
   ]
  },
  {
   "cell_type": "code",
   "execution_count": 19,
   "id": "c3ab80ff",
   "metadata": {},
   "outputs": [],
   "source": [
    "synthetic_df = pd.DataFrame(synthetic_transactions)"
   ]
  },
  {
   "cell_type": "code",
   "execution_count": 21,
   "id": "2a91f88a",
   "metadata": {},
   "outputs": [
    {
     "data": {
      "text/html": [
       "<div>\n",
       "<style scoped>\n",
       "    .dataframe tbody tr th:only-of-type {\n",
       "        vertical-align: middle;\n",
       "    }\n",
       "\n",
       "    .dataframe tbody tr th {\n",
       "        vertical-align: top;\n",
       "    }\n",
       "\n",
       "    .dataframe thead th {\n",
       "        text-align: right;\n",
       "    }\n",
       "</style>\n",
       "<table border=\"1\" class=\"dataframe\">\n",
       "  <thead>\n",
       "    <tr style=\"text-align: right;\">\n",
       "      <th></th>\n",
       "      <th>Transaction ID</th>\n",
       "      <th>Date and Time</th>\n",
       "      <th>Customer ID</th>\n",
       "      <th>Product Code</th>\n",
       "      <th>Item Name</th>\n",
       "      <th>Category</th>\n",
       "      <th>Quantity</th>\n",
       "      <th>Price</th>\n",
       "      <th>Total Price</th>\n",
       "      <th>Payment Method</th>\n",
       "    </tr>\n",
       "  </thead>\n",
       "  <tbody>\n",
       "    <tr>\n",
       "      <th>0</th>\n",
       "      <td>c837b97e-6faa-431f-837a-398143988a91</td>\n",
       "      <td>2024-02-04 13:16:32.416308</td>\n",
       "      <td>89</td>\n",
       "      <td>206211</td>\n",
       "      <td>Smart Smart Boot Laces Black 120cm Each</td>\n",
       "      <td>Home &amp; Lifestyle</td>\n",
       "      <td>6</td>\n",
       "      <td>3.50</td>\n",
       "      <td>21.0</td>\n",
       "      <td>Mobile Payment</td>\n",
       "    </tr>\n",
       "    <tr>\n",
       "      <th>1</th>\n",
       "      <td>e02edebb-db1c-47ad-b384-98a0b15b7eee</td>\n",
       "      <td>2024-05-15 01:24:29.382897</td>\n",
       "      <td>87</td>\n",
       "      <td>608986</td>\n",
       "      <td>Dove Conditioner Daily Care With Lightweight T...</td>\n",
       "      <td>Beauty &amp; Personal Care</td>\n",
       "      <td>6</td>\n",
       "      <td>5.00</td>\n",
       "      <td>30.0</td>\n",
       "      <td>Gift Card</td>\n",
       "    </tr>\n",
       "    <tr>\n",
       "      <th>2</th>\n",
       "      <td>bcb13656-d4f5-40d1-8a5e-026e4c90f9ba</td>\n",
       "      <td>2024-03-03 15:02:31.513341</td>\n",
       "      <td>76</td>\n",
       "      <td>513452</td>\n",
       "      <td>Mcobeauty Lip Pop 2-in-1 Lip Gloss Balm Gummy ...</td>\n",
       "      <td>Beauty &amp; Personal Care</td>\n",
       "      <td>3</td>\n",
       "      <td>22.00</td>\n",
       "      <td>66.0</td>\n",
       "      <td>Credit Card</td>\n",
       "    </tr>\n",
       "    <tr>\n",
       "      <th>3</th>\n",
       "      <td>115a3cd0-99a4-4b50-a3fd-5c33024ceb5d</td>\n",
       "      <td>2024-04-26 17:21:03.522555</td>\n",
       "      <td>32</td>\n",
       "      <td>663059</td>\n",
       "      <td>Eagle Coin Fried Dace Black Bean 184g</td>\n",
       "      <td>Pantry</td>\n",
       "      <td>10</td>\n",
       "      <td>4.20</td>\n",
       "      <td>42.0</td>\n",
       "      <td>Cash</td>\n",
       "    </tr>\n",
       "    <tr>\n",
       "      <th>4</th>\n",
       "      <td>b5ff49e8-0453-49d7-ae3b-51f6c24bcb81</td>\n",
       "      <td>2024-01-03 17:58:07.224940</td>\n",
       "      <td>91</td>\n",
       "      <td>710411</td>\n",
       "      <td>Decor Thermoglass Baking Dish Realseal 1l</td>\n",
       "      <td>Home &amp; Lifestyle</td>\n",
       "      <td>2</td>\n",
       "      <td>7.75</td>\n",
       "      <td>15.5</td>\n",
       "      <td>Mobile Payment</td>\n",
       "    </tr>\n",
       "  </tbody>\n",
       "</table>\n",
       "</div>"
      ],
      "text/plain": [
       "                         Transaction ID              Date and Time  \\\n",
       "0  c837b97e-6faa-431f-837a-398143988a91 2024-02-04 13:16:32.416308   \n",
       "1  e02edebb-db1c-47ad-b384-98a0b15b7eee 2024-05-15 01:24:29.382897   \n",
       "2  bcb13656-d4f5-40d1-8a5e-026e4c90f9ba 2024-03-03 15:02:31.513341   \n",
       "3  115a3cd0-99a4-4b50-a3fd-5c33024ceb5d 2024-04-26 17:21:03.522555   \n",
       "4  b5ff49e8-0453-49d7-ae3b-51f6c24bcb81 2024-01-03 17:58:07.224940   \n",
       "\n",
       "   Customer ID  Product Code  \\\n",
       "0           89        206211   \n",
       "1           87        608986   \n",
       "2           76        513452   \n",
       "3           32        663059   \n",
       "4           91        710411   \n",
       "\n",
       "                                           Item Name                Category  \\\n",
       "0            Smart Smart Boot Laces Black 120cm Each        Home & Lifestyle   \n",
       "1  Dove Conditioner Daily Care With Lightweight T...  Beauty & Personal Care   \n",
       "2  Mcobeauty Lip Pop 2-in-1 Lip Gloss Balm Gummy ...  Beauty & Personal Care   \n",
       "3              Eagle Coin Fried Dace Black Bean 184g                  Pantry   \n",
       "4          Decor Thermoglass Baking Dish Realseal 1l        Home & Lifestyle   \n",
       "\n",
       "   Quantity  Price  Total Price  Payment Method  \n",
       "0         6   3.50         21.0  Mobile Payment  \n",
       "1         6   5.00         30.0       Gift Card  \n",
       "2         3  22.00         66.0     Credit Card  \n",
       "3        10   4.20         42.0            Cash  \n",
       "4         2   7.75         15.5  Mobile Payment  "
      ]
     },
     "execution_count": 21,
     "metadata": {},
     "output_type": "execute_result"
    }
   ],
   "source": [
    "synthetic_df.head()"
   ]
  },
  {
   "cell_type": "markdown",
   "id": "22082774",
   "metadata": {},
   "source": [
    "There is a range of information that can used as a starting step to building a recommendation system. Next steps are to have multiple different items with different quantities per transaction and make data such as transaction ID more readable."
   ]
  },
  {
   "cell_type": "code",
   "execution_count": null,
   "id": "dff9bfc8",
   "metadata": {},
   "outputs": [],
   "source": []
  }
 ],
 "metadata": {
  "kernelspec": {
   "display_name": "Python 3 (ipykernel)",
   "language": "python",
   "name": "python3"
  },
  "language_info": {
   "codemirror_mode": {
    "name": "ipython",
    "version": 3
   },
   "file_extension": ".py",
   "mimetype": "text/x-python",
   "name": "python",
   "nbconvert_exporter": "python",
   "pygments_lexer": "ipython3",
   "version": "3.11.0"
  }
 },
 "nbformat": 4,
 "nbformat_minor": 5
}
